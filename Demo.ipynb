{
  "nbformat": 4,
  "nbformat_minor": 0,
  "metadata": {
    "colab": {
      "provenance": [],
      "machine_shape": "hm",
      "gpuType": "T4"
    },
    "kernelspec": {
      "name": "python3",
      "display_name": "Python 3"
    },
    "language_info": {
      "name": "python"
    },
    "accelerator": "GPU"
  },
  "cells": [
    {
      "cell_type": "code",
      "execution_count": null,
      "metadata": {
        "colab": {
          "base_uri": "https://localhost:8080/"
        },
        "id": "WIE1YZIvCxZG",
        "outputId": "cc9d4a14-28da-49d2-f672-fe3a382b7fba"
      },
      "outputs": [
        {
          "output_type": "stream",
          "name": "stdout",
          "text": [
            "Drive already mounted at /content/drive; to attempt to forcibly remount, call drive.mount(\"/content/drive\", force_remount=True).\n"
          ]
        }
      ],
      "source": [
        "from google.colab import drive\n",
        "drive.mount('/content/drive')"
      ]
    },
    {
      "cell_type": "code",
      "source": [
        "from transformers import GPT2LMHeadModel, GPT2Tokenizer\n",
        "\n",
        "# Load the model\n",
        "model = GPT2LMHeadModel.from_pretrained(\"/content/drive/MyDrive/CS271_Project/mySavedModel\")\n",
        "\n",
        "# Load the tokenizer\n",
        "tokenizer = GPT2Tokenizer.from_pretrained(\"/content/drive/MyDrive/CS271_Project/mySavedModel\")"
      ],
      "metadata": {
        "colab": {
          "base_uri": "https://localhost:8080/"
        },
        "id": "98FNDUFcC11f",
        "outputId": "7db2dbde-19ff-4347-9e67-9ad855354806"
      },
      "execution_count": null,
      "outputs": [
        {
          "output_type": "stream",
          "name": "stderr",
          "text": [
            "Special tokens have been added in the vocabulary, make sure the associated word embeddings are fine-tuned or trained.\n"
          ]
        }
      ]
    },
    {
      "cell_type": "code",
      "source": [
        "from transformers import pipeline\n",
        "\n",
        "# Create a text generation pipeline\n",
        "pl = pipeline(\"text-generation\", model=\"/content/drive/MyDrive/CS271_Project/mySavedModel\")"
      ],
      "metadata": {
        "colab": {
          "base_uri": "https://localhost:8080/"
        },
        "id": "S30IJDa1C3lr",
        "outputId": "4ce7a96b-6d62-4126-e9da-304df22198f5"
      },
      "execution_count": null,
      "outputs": [
        {
          "output_type": "stream",
          "name": "stderr",
          "text": [
            "Special tokens have been added in the vocabulary, make sure the associated word embeddings are fine-tuned or trained.\n"
          ]
        }
      ]
    },
    {
      "cell_type": "code",
      "source": [
        "def create_prompt(ingredients):\n",
        "    ingredients = ','.join([x.strip().lower() for x in ingredients.split(',')])\n",
        "    ingredients = ingredients.strip().replace(',','\\n')\n",
        "    s = f\"<|startoftext|>Ingredients:\\n{ingredients}\\n\"\n",
        "    return s"
      ],
      "metadata": {
        "id": "h25V4tabC5um"
      },
      "execution_count": null,
      "outputs": []
    },
    {
      "cell_type": "code",
      "source": [
        "#Change ingredients\n",
        "ingredients = ['Beef' 'brocolli'  ]"
      ],
      "metadata": {
        "id": "RmQtEQ6tDD9k"
      },
      "execution_count": null,
      "outputs": []
    },
    {
      "cell_type": "code",
      "source": [
        "for ing in ingredients:\n",
        "    prompt = create_prompt(ing)\n",
        "    print(pl(prompt,\n",
        "         max_new_tokens=512,\n",
        "         penalty_alpha=0.6,\n",
        "         top_k=4,\n",
        "         pad_token_id=50259\n",
        "        )[0]['generated_text'])"
      ],
      "metadata": {
        "colab": {
          "base_uri": "https://localhost:8080/"
        },
        "id": "FODHNp6yC-of",
        "outputId": "bccb6bd7-3fc7-4ee9-ac4f-fd41d9c6f6bb"
      },
      "execution_count": null,
      "outputs": [
        {
          "output_type": "stream",
          "name": "stdout",
          "text": [
            "<|startoftext|>Ingredients:\n",
            "beefbrocolli\n",
            "\n",
            "1   tablespoon    olive oil\",\"2 (15 1/3  ounce) cans   chicken broth\",\"3       garlic cloves, finely minced \",\"1   teaspoon    dried basil, minced \",\"1/2  teaspoon    salt\",\"1/4  teaspoon    black pepper\",\"2   tablespoons    fresh parsley, chopped \",\"1/2  lb    boneless skinless chicken breast, cut into strips  or 1/2  lb    boneless skinless chicken breast\",\"1 (15 1/3  ounce) can   black olives, drained \",\"3   tablespoons    fresh lemon juice\",\"3   tablespoons    fresh lemon juice\",\"  parmesan cheese, grated \"\n",
            "\n",
            "Steps:\n",
            "Heat olive oil in large skillet over medium-high heat., Add garlic and cook until lightly golden and translucent, 3-5 min. Add broth, garlic, basil, salt, pepper, chicken strips, parsley, chicken broth mixture, lemon juice, and olives., Bring to boiling., Cover and simmer, covered, 15-20 min. Stir frequently., Sprinkle with Parmesan cheese and serve.\n"
          ]
        }
      ]
    },
    {
      "cell_type": "code",
      "source": [],
      "metadata": {
        "id": "mBDAQnpYTMS3"
      },
      "execution_count": null,
      "outputs": []
    }
  ]
}